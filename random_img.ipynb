{
 "cells": [
  {
   "cell_type": "code",
   "execution_count": 10,
   "metadata": {},
   "outputs": [],
   "source": [
    "import os\n",
    "import random\n",
    "import shutil\n",
    "\n",
    "def copy_random_images(source_folder, destination_folder, num_images=100):\n",
    "    # Get list of all files in the source folder\n",
    "    files = os.listdir(source_folder)\n",
    "    \n",
    "    # Filter out only image files (assuming common image formats)\n",
    "    image_files = [file for file in files if file.lower().endswith(('.png', '.jpg', '.jpeg', '.gif', '.bmp'))]\n",
    "    \n",
    "    if len(image_files) < num_images:\n",
    "        raise ValueError(f\"Not enough images in the source folder. Found {len(image_files)} images.\")\n",
    "    \n",
    "    # Select random images\n",
    "    selected_images = random.sample(image_files, num_images)\n",
    "    \n",
    "    # Create destination folder if it doesn't exist\n",
    "    if not os.path.exists(destination_folder):\n",
    "        os.makedirs(destination_folder)\n",
    "    \n",
    "    # Copy and rename images to the destination folder\n",
    "    for i, image_file in enumerate(selected_images):\n",
    "        src_path = os.path.join(source_folder, image_file)\n",
    "        dst_path = os.path.join(destination_folder, f'image_{i+1}.jpg')\n",
    "        shutil.copy(src_path, dst_path)\n",
    "\n",
    "# Specify the source and destination folders\n",
    "source_folder = '/Applications/code/computer_vision/final_project/minivan'\n",
    "destination_folder = '/Applications/code/computer_vision/final_project/Dataset/minivan'\n",
    "\n",
    "# Copy and rename 100 random images\n",
    "copy_random_images(source_folder, destination_folder)\n"
   ]
  }
 ],
 "metadata": {
  "kernelspec": {
   "display_name": "Python 3",
   "language": "python",
   "name": "python3"
  },
  "language_info": {
   "codemirror_mode": {
    "name": "ipython",
    "version": 3
   },
   "file_extension": ".py",
   "mimetype": "text/x-python",
   "name": "python",
   "nbconvert_exporter": "python",
   "pygments_lexer": "ipython3",
   "version": "3.11.6"
  }
 },
 "nbformat": 4,
 "nbformat_minor": 2
}
